{
 "cells": [
  {
   "cell_type": "code",
   "execution_count": 20,
   "id": "dd1b04ce-aac7-45a3-b486-8b78539f7e09",
   "metadata": {},
   "outputs": [
    {
     "name": "stdout",
     "output_type": "stream",
     "text": [
      "Output dimensions: (4, 4, 2)\n",
      "Convolution output:\n",
      "[[[-2.73470357  1.00928476]\n",
      "  [-3.04862297  2.62902945]\n",
      "  [ 1.45673712 -0.43926729]\n",
      "  [ 0.96095833  5.55339031]]\n",
      "\n",
      " [[ 1.88392937 -7.00229311]\n",
      "  [-4.2991383  -8.18340082]\n",
      "  [-1.7325043  -1.85290958]\n",
      "  [-4.58719143  4.8308297 ]]\n",
      "\n",
      " [[-0.49431378  6.79918861]\n",
      "  [ 2.04246004 -4.11926553]\n",
      "  [ 6.60292506  4.18628159]\n",
      "  [ 0.19261097 -4.88664714]]\n",
      "\n",
      " [[-1.56400907 -4.18887399]\n",
      "  [-0.93191164 -5.86302455]\n",
      "  [ 1.04390358 -5.49618673]\n",
      "  [ 1.12412695 -4.26557502]]]\n"
     ]
    }
   ],
   "source": [
    "import numpy as np\n",
    "\n",
    "I = 7  \n",
    "F = 3  \n",
    "P = 1  \n",
    "S = 2 \n",
    "D_in = 3  \n",
    "D_out = 2\n",
    "\n",
    "O = ((I - F + 2 * P) // S) + 1\n",
    "\n",
    "output_shape = (O, O, D_out)\n",
    "print(f\"Output dimensions: {output_shape}\")  \n",
    "\n",
    "input_volume = np.random.randn(I, I, D_in)\n",
    "\n",
    "input_padded = np.pad(input_volume, ((P, P), (P, P), (0, 0)), mode='constant')\n",
    "\n",
    "filters = np.random.randn(F, F, D_in, D_out)\n",
    "\n",
    "output_volume = np.zeros((O, O, D_out))\n",
    "\n",
    "for d in range(D_out): \n",
    "    for i in range(0, O): \n",
    "        for j in range(0, O):  \n",
    "            region = input_padded[i*S : i*S+F, j*S : j*S+F, :]\n",
    "            output_volume[i, j, d] = np.sum(region * filters[:, :, :, d])  \n",
    "\n",
    "print(\"Convolution output:\")\n",
    "print(output_volume)\n"
   ]
  },
  {
   "cell_type": "code",
   "execution_count": null,
   "id": "122c339f-45d3-467c-9ba0-a2f5b08cc4f6",
   "metadata": {},
   "outputs": [],
   "source": []
  }
 ],
 "metadata": {
  "kernelspec": {
   "display_name": "Python 3 (ipykernel)",
   "language": "python",
   "name": "python3"
  },
  "language_info": {
   "codemirror_mode": {
    "name": "ipython",
    "version": 3
   },
   "file_extension": ".py",
   "mimetype": "text/x-python",
   "name": "python",
   "nbconvert_exporter": "python",
   "pygments_lexer": "ipython3",
   "version": "3.12.7"
  }
 },
 "nbformat": 4,
 "nbformat_minor": 5
}
