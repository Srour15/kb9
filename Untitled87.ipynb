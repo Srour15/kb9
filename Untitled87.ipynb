{
 "cells": [
  {
   "cell_type": "code",
   "execution_count": 3,
   "id": "bf284d74-a952-4161-a561-14491881d1da",
   "metadata": {},
   "outputs": [
    {
     "name": "stdout",
     "output_type": "stream",
     "text": [
      "Loss: 2.3234107032083777\n",
      "Updated Weights:\n",
      "Wxh: [[-0.00420509 -0.00866944]\n",
      " [-0.00150617  0.00057236]\n",
      " [ 0.00594167 -0.01121613]\n",
      " [-0.01259379  0.00862524]\n",
      " [-0.00106344  0.00144691]]\n",
      "Whh: [[ 0.01249247 -0.00243655  0.01039645  0.0119318   0.00402937]\n",
      " [-0.0114102  -0.00121162  0.01299293  0.00823536 -0.00605407]\n",
      " [-0.00981842  0.00923514  0.00167859 -0.00834743  0.00214874]\n",
      " [ 0.01084256 -0.01689541  0.00210469  0.00921696  0.00037608]\n",
      " [ 0.02561898 -0.00462529  0.00725236 -0.00600366 -0.00423773]]\n",
      "Why: [[ 0.00684862 -0.0013938  -0.00090109  0.02102471  0.00112164]]\n",
      "bh: [[-7.29326232e-05]\n",
      " [ 1.42227811e-05]\n",
      " [ 1.01340044e-05]\n",
      " [-2.27497859e-04]\n",
      " [-1.20397898e-05]]\n",
      "by: [[-0.01086589]]\n"
     ]
    }
   ],
   "source": [
    "import numpy as np\n",
    "import math\n",
    "\n",
    "input_size = 2\n",
    "hidden_size = 5\n",
    "output_size = 1\n",
    "sequence_length = 3\n",
    "learning_rate = 0.01\n",
    "\n",
    "Wxh = np.random.randn(hidden_size, input_size) * 0.01\n",
    "Whh = np.random.randn(hidden_size, hidden_size) * 0.01\n",
    "Why = np.random.randn(output_size, hidden_size) * 0.01\n",
    "bh = np.zeros((hidden_size, 1))\n",
    "by = np.zeros((output_size, 1))\n",
    "\n",
    "inputs = [np.random.randn(input_size, 1) for _ in range(sequence_length)]\n",
    "targets = [np.random.randn(output_size, 1) for _ in range(sequence_length)]\n",
    "\n",
    "hs = {}\n",
    "hs[-1] = np.zeros((hidden_size, 1))\n",
    "outputs = []\n",
    "\n",
    "for t in range(sequence_length):\n",
    "    hs[t] = np.tanh(np.dot(Wxh, inputs[t]) + np.dot(Whh, hs[t-1]) + bh)\n",
    "    y = np.dot(Why, hs[t]) + by\n",
    "    outputs.append(y)\n",
    "\n",
    "loss = sum((outputs[t] - targets[t])**2 for t in range(sequence_length))\n",
    "print(\"Loss:\", loss.sum())\n",
    "\n",
    "dWxh, dWhh, dWhy = np.zeros_like(Wxh), np.zeros_like(Whh), np.zeros_like(Why)\n",
    "dbh, dby = np.zeros_like(bh), np.zeros_like(by)\n",
    "dhnext = np.zeros_like(hs[0])\n",
    "\n",
    "for t in reversed(range(sequence_length)):\n",
    "    dy = outputs[t] - targets[t]\n",
    "    dWhy += np.dot(dy, hs[t].T)\n",
    "    dby += dy\n",
    "\n",
    "    dh = np.dot(Why.T, dy) + dhnext\n",
    "    dhraw = (1 - hs[t] * hs[t]) * dh\n",
    "    dbh += dhraw\n",
    "    dWxh += np.dot(dhraw, inputs[t].T)\n",
    "    dWhh += np.dot(dhraw, hs[t-1].T)\n",
    "    dhnext = np.dot(Whh.T, dhraw)\n",
    "\n",
    "for param, dparam in zip([Wxh, Whh, Why, bh, by], [dWxh, dWhh, dWhy, dbh, dby]):\n",
    "    param -= learning_rate * dparam\n",
    "\n",
    "print(\"Updated Weights:\")\n",
    "print(\"Wxh:\", Wxh)\n",
    "print(\"Whh:\", Whh)\n",
    "print(\"Why:\", Why)\n",
    "print(\"bh:\", bh)\n",
    "print(\"by:\", by)\n"
   ]
  },
  {
   "cell_type": "code",
   "execution_count": null,
   "id": "9ee72024-802f-437c-ab46-247cd83ce61e",
   "metadata": {},
   "outputs": [],
   "source": []
  }
 ],
 "metadata": {
  "kernelspec": {
   "display_name": "Python 3 (ipykernel)",
   "language": "python",
   "name": "python3"
  },
  "language_info": {
   "codemirror_mode": {
    "name": "ipython",
    "version": 3
   },
   "file_extension": ".py",
   "mimetype": "text/x-python",
   "name": "python",
   "nbconvert_exporter": "python",
   "pygments_lexer": "ipython3",
   "version": "3.12.7"
  }
 },
 "nbformat": 4,
 "nbformat_minor": 5
}
