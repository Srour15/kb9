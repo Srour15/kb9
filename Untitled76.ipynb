{
 "cells": [
  {
   "cell_type": "code",
   "execution_count": 5,
   "id": "c67d0cab-9ccb-491d-8585-ce8d72d9e21f",
   "metadata": {},
   "outputs": [
    {
     "name": "stdout",
     "output_type": "stream",
     "text": [
      "Initial Outputs: [0.75693192 0.76771788]\n",
      "Initial Total Error: 0.303658313630144\n",
      "Updated Outputs: [0.73448155 0.77347918]\n",
      "Updated Total Error: 0.2858773900703121\n"
     ]
    }
   ],
   "source": [
    "import numpy as np\n",
    "def sigmoid(x):\n",
    "    return 1 / (1 + np.exp(-x))\n",
    "\n",
    "def sigmoid_derivative(x):\n",
    "    return x * (1 - x)\n",
    "\n",
    "inputs = np.array([0.05, 0.10])\n",
    "expected_outputs = np.array([0.01, 0.99])\n",
    "\n",
    "weights_input_hidden = np.array([[0.15, 0.20], [0.25, 0.30]]) \n",
    "weights_hidden_output = np.array([[0.40, 0.45], [0.50, 0.55]])  \n",
    "bias_hidden = np.array([0.35, 0.35])  \n",
    "bias_output = np.array([0.60, 0.60])  \n",
    "\n",
    "learning_rate = 0.5\n",
    "hidden_net = np.dot(inputs, weights_input_hidden) + bias_hidden\n",
    "hidden_output = sigmoid(hidden_net)\n",
    "\n",
    "output_net = np.dot(hidden_output, weights_hidden_output) + bias_output\n",
    "output = sigmoid(output_net)\n",
    "\n",
    "error = 0.5 * (expected_outputs - output) ** 2\n",
    "total_error = np.sum(error)\n",
    "\n",
    "print(\"Initial Outputs:\", output)\n",
    "print(\"Initial Total Error:\", total_error)\n",
    "\n",
    "output_error = expected_outputs - output\n",
    "output_delta = output_error * sigmoid_derivative(output)\n",
    "\n",
    "hidden_error = np.dot(output_delta, weights_hidden_output.T)\n",
    "hidden_delta = hidden_error * sigmoid_derivative(hidden_output)\n",
    "\n",
    "weights_hidden_output += learning_rate * np.outer(hidden_output, output_delta)\n",
    "bias_output += learning_rate * output_delta\n",
    "\n",
    "weights_input_hidden += learning_rate * np.outer(inputs, hidden_delta)\n",
    "bias_hidden += learning_rate * hidden_delta\n",
    "\n",
    "hidden_net = np.dot(inputs, weights_input_hidden) + bias_hidden\n",
    "hidden_output = sigmoid(hidden_net)\n",
    "\n",
    "output_net = np.dot(hidden_output, weights_hidden_output) + bias_output\n",
    "output = sigmoid(output_net)\n",
    "\n",
    "error = 0.5 * (expected_outputs - output) ** 2\n",
    "total_error = np.sum(error)\n",
    "\n",
    "print(\"Updated Outputs:\", output)\n",
    "print(\"Updated Total Error:\", total_error)"
   ]
  },
  {
   "cell_type": "code",
   "execution_count": null,
   "id": "e9b6caa0-1265-449c-9e0e-b6d3c251ff74",
   "metadata": {},
   "outputs": [],
   "source": []
  }
 ],
 "metadata": {
  "kernelspec": {
   "display_name": "Python 3 (ipykernel)",
   "language": "python",
   "name": "python3"
  },
  "language_info": {
   "codemirror_mode": {
    "name": "ipython",
    "version": 3
   },
   "file_extension": ".py",
   "mimetype": "text/x-python",
   "name": "python",
   "nbconvert_exporter": "python",
   "pygments_lexer": "ipython3",
   "version": "3.12.7"
  }
 },
 "nbformat": 4,
 "nbformat_minor": 5
}
